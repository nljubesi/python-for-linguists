{
 "cells": [
  {
   "cell_type": "markdown",
   "metadata": {},
   "source": [
    "# Osnove programiranja"
   ]
  },
  {
   "cell_type": "markdown",
   "metadata": {
    "collapsed": true
   },
   "source": [
    "## Python\n",
    "\n",
    "*Python* je **visokorazinski**, **interpretirani** i **dinamički tipizirani** jezik.\n",
    "Kod **visokorazinskih jezika** ne treba brinuti o načinu izvođenja koda na računalu zbog visokog stupnja apstrakcije.\n",
    "**Interpretirani jezik** znači da se kod tumači pri pokretanju.\n",
    "Kod **dinamički tipiziranog jezika** nije potrebno unaprijed definirati tipove podataka."
   ]
  },
  {
   "cell_type": "markdown",
   "metadata": {},
   "source": [
    "## Osnovni pojmovi\n",
    "\n",
    "*Python* poznaje različite **tipove podataka** kao što su cjelobrojni, realni, logički, znakovni...\n",
    "\n",
    "**Varijabla** je lokacija na memoriji u koju se može pohraniti neka vrijednost.\n",
    "\n",
    "U objektno-orijentiranim jezicima varijable su zapravo **objekti**. Objekt posjeduje **svojstva** (podaci) i **metode** (operacije nad pohranjenim podacima). Svi objekti istog tipa pripadaju istoj **klasi**."
   ]
  },
  {
   "cell_type": "markdown",
   "metadata": {},
   "source": [
    "## Primjer modela fizičkog objekta\n",
    "\n",
    "Fizički **objekt** bicikl pripada **klasi** svih bicikala. **Instanca klase** je konkretan bicikl. Klasa je nacrt svih objekata, instanci te klase (zajednička svojstva svih pripadnika klase). **Svojstva** bicikla su tip, boja, veličina, veličina kotača, tip kočnica i sl. **Metode** koje pripadaju objektu bicikl su kreni, ubrzaj, stani, koči, prebaci u višu brzinu, prebaci u nižu brzinu i sl.\n",
    "\n",
    "**Objekt**: bicikl\n",
    "**Klase**: svojstva bicikla i operacije koje se mogu vršiti biciklom\n",
    "**Instanca klase**: konkretan bicikl\n",
    "**Svojstve**: tip, boja, veličina, veličina kotača, tip kočnica\n",
    "**Metode**: kreni, ubrzaj, stani, koči, prebaci u višu brzinu, prebaci u nižu brzinu"
   ]
  },
  {
   "cell_type": "markdown",
   "metadata": {
    "collapsed": true
   },
   "source": [
    "## Primjer objekta\n",
    "\n",
    "Niz znakova je tip podataka **string**. U *Pythonu* se koristi naredba `print` za ispisivanje."
   ]
  },
  {
   "cell_type": "code",
   "execution_count": 61,
   "metadata": {
    "collapsed": false
   },
   "outputs": [
    {
     "name": "stdout",
     "output_type": "stream",
     "text": [
      "Hello world\n"
     ]
    }
   ],
   "source": [
    "print \"Hello world\""
   ]
  },
  {
   "cell_type": "code",
   "execution_count": 62,
   "metadata": {
    "collapsed": true
   },
   "outputs": [],
   "source": [
    "s=\"Hello world\""
   ]
  },
  {
   "cell_type": "code",
   "execution_count": 63,
   "metadata": {
    "collapsed": false
   },
   "outputs": [
    {
     "name": "stdout",
     "output_type": "stream",
     "text": [
      "Hello world\n"
     ]
    }
   ],
   "source": [
    "print s"
   ]
  },
  {
   "cell_type": "code",
   "execution_count": 64,
   "metadata": {
    "collapsed": false
   },
   "outputs": [
    {
     "name": "stdout",
     "output_type": "stream",
     "text": [
      "HELLO WORLD\n"
     ]
    }
   ],
   "source": [
    "print s.upper()"
   ]
  },
  {
   "cell_type": "code",
   "execution_count": 65,
   "metadata": {
    "collapsed": false
   },
   "outputs": [
    {
     "name": "stdout",
     "output_type": "stream",
     "text": [
      "HellO wOrld\n"
     ]
    }
   ],
   "source": [
    "print s.replace(\"o\",\"O\")"
   ]
  },
  {
   "cell_type": "markdown",
   "metadata": {},
   "source": [
    "s je **varijabla**, odnosno **referenca** na **objekt** tipa string.\n",
    "\n",
    "`upper()` i `replace()` su **metode**.\n",
    "\n",
    "**Svojstvo** objekta je njegov sadržaj ispisan naredbom print.\n",
    "\n",
    "`replace` je **ime metode**. To je metoda koja prima dva **argumenta**."
   ]
  },
  {
   "cell_type": "markdown",
   "metadata": {},
   "source": [
    "## Jednostavni tipovi podataka\n",
    "\n",
    "*Python* poznaje sljedeće jednostavne tipove podataka:\n",
    "* cjelobrojni tip podataka (int)\n",
    "* realni tip podataka (float)\n",
    "* niz znakova (string)\n",
    "* logička vrijednost (bool)."
   ]
  },
  {
   "cell_type": "markdown",
   "metadata": {},
   "source": [
    "### Cjelobrojni tip podataka\n",
    "\n",
    "Brojevi pripadaju nepromjenjivim tipovima podataka. U Pythonu se prije razlomačkog dijela broja koristi točka, a ne zarez.\n",
    "\n",
    "Cjelobrojni tipovi podataka su pozitivni ili negativni cijeli brojevi bez decimalne točke. Za pohranjivanje cjelobrojnog tipa podataka potrebno je 32 bita."
   ]
  },
  {
   "cell_type": "code",
   "execution_count": 66,
   "metadata": {
    "collapsed": false
   },
   "outputs": [
    {
     "data": {
      "text/plain": [
       "2"
      ]
     },
     "execution_count": 66,
     "metadata": {},
     "output_type": "execute_result"
    }
   ],
   "source": [
    "2"
   ]
  },
  {
   "cell_type": "code",
   "execution_count": 67,
   "metadata": {
    "collapsed": false
   },
   "outputs": [
    {
     "data": {
      "text/plain": [
       "-7897"
      ]
     },
     "execution_count": 67,
     "metadata": {},
     "output_type": "execute_result"
    }
   ],
   "source": [
    "-7897"
   ]
  },
  {
   "cell_type": "markdown",
   "metadata": {},
   "source": [
    "Cijeli brojevi mogu se prikazati od -9 223 372 036 854 775 808 do 9 223 372 036 854 775 807. U slučaju da postoji potreba za brojevima izvan navedenog raspona, mogu se pohraniti u cijele brojeve u dugom zapisu s oznakom `L`. U tom slučaju je ograničenje broja jedino količina radne memorije računala."
   ]
  },
  {
   "cell_type": "markdown",
   "metadata": {},
   "source": [
    "### Realni tip podataka\n",
    "\n",
    "Realne vrijednosti su pozitivni ili negativni realni brojevi s pomičnom (kliznom) točkom (en. *floating-point*) koji odvaja cjelobrojnu vrijednost broja i razlomački dio. Brojevi s pomičnom točkom mogu se prikazati na dva načina: klasični način s točkom ili znanstveni način prikazivanja brojeva sa slovom E. Za pohranjivanje realnog tipa podataka potrebno je 64 bita."
   ]
  },
  {
   "cell_type": "code",
   "execution_count": 68,
   "metadata": {
    "collapsed": false
   },
   "outputs": [
    {
     "data": {
      "text/plain": [
       "3.4"
      ]
     },
     "execution_count": 68,
     "metadata": {},
     "output_type": "execute_result"
    }
   ],
   "source": [
    "3.4"
   ]
  },
  {
   "cell_type": "code",
   "execution_count": 69,
   "metadata": {
    "collapsed": false
   },
   "outputs": [
    {
     "data": {
      "text/plain": [
       "-7213.6241"
      ]
     },
     "execution_count": 69,
     "metadata": {},
     "output_type": "execute_result"
    }
   ],
   "source": [
    "-7213.6241"
   ]
  },
  {
   "cell_type": "code",
   "execution_count": 70,
   "metadata": {
    "collapsed": false
   },
   "outputs": [
    {
     "data": {
      "text/plain": [
       "2.66e-23"
      ]
     },
     "execution_count": 70,
     "metadata": {},
     "output_type": "execute_result"
    }
   ],
   "source": [
    "2.66e-23"
   ]
  },
  {
   "cell_type": "markdown",
   "metadata": {},
   "source": [
    "Realni brojevi mogu se prikazati od 2,2250738585072014e-308 do 1,7976931348623157e+308. Kad je rezultat operacije nad brojevima prevelik za prikaz u Pythonu, prikaže se vrijednost `inf`. Slično tome, kad je negativan broj manji od najmanjeg broja koji se može prikazati u Pythonu, prikaže se vrijednost `0.0`."
   ]
  },
  {
   "cell_type": "markdown",
   "metadata": {},
   "source": [
    "### Niz znakova\n",
    "\n",
    "Niz znakova (en. *string*) pripadaju nepromjenjivim tipovima podataka koje možemo definirati kao jedan ili više znakova omeđenih jednostrukim (`'`) ili dvostrukim navodnicima (`\"`).Ako je niz znakova započet s jednostrukim navodnicima, tada mora i završavati jednostrukim navodnicima. Isto vrijedi i za dvostruke navodnike. Moguće je kombinirati jednostruke i dvostruke navodnike. Ako je niz znakova započet s jednostrukim navodnicima, može sadržavati jedan ili više dvostruki navodnik. Također vrijedi da niz znakova započet dvostrukim navodnicima može sadržavati jedan ili više jednostruki navodnik."
   ]
  },
  {
   "cell_type": "code",
   "execution_count": 71,
   "metadata": {
    "collapsed": false
   },
   "outputs": [
    {
     "data": {
      "text/plain": [
       "'Ovo je niz znakova.'"
      ]
     },
     "execution_count": 71,
     "metadata": {},
     "output_type": "execute_result"
    }
   ],
   "source": [
    "'Ovo je niz znakova.'"
   ]
  },
  {
   "cell_type": "code",
   "execution_count": 72,
   "metadata": {
    "collapsed": false
   },
   "outputs": [
    {
     "data": {
      "text/plain": [
       "'Ovo je isto niz znakova.'"
      ]
     },
     "execution_count": 72,
     "metadata": {},
     "output_type": "execute_result"
    }
   ],
   "source": [
    "\"Ovo je isto niz znakova.\""
   ]
  },
  {
   "cell_type": "code",
   "execution_count": 73,
   "metadata": {
    "collapsed": false
   },
   "outputs": [
    {
     "data": {
      "text/plain": [
       "\"Ovo je 'niz znakova' u kojem se nalazi 'kombinacija' navodnika.\""
      ]
     },
     "execution_count": 73,
     "metadata": {},
     "output_type": "execute_result"
    }
   ],
   "source": [
    "\"Ovo je 'niz znakova' u kojem se nalazi 'kombinacija' navodnika.\""
   ]
  },
  {
   "cell_type": "markdown",
   "metadata": {},
   "source": [
    "Moguće je navesti prazan niz znakova navođenjem dva jednostruka ili dvostruka navodnika za redom. Vrijednost toga niza znakova je prazan niz duljine 1:"
   ]
  },
  {
   "cell_type": "code",
   "execution_count": 74,
   "metadata": {
    "collapsed": false
   },
   "outputs": [
    {
     "data": {
      "text/plain": [
       "''"
      ]
     },
     "execution_count": 74,
     "metadata": {},
     "output_type": "execute_result"
    }
   ],
   "source": [
    "''"
   ]
  },
  {
   "cell_type": "code",
   "execution_count": 75,
   "metadata": {
    "collapsed": false
   },
   "outputs": [
    {
     "data": {
      "text/plain": [
       "''"
      ]
     },
     "execution_count": 75,
     "metadata": {},
     "output_type": "execute_result"
    }
   ],
   "source": [
    "\"\""
   ]
  },
  {
   "cell_type": "markdown",
   "metadata": {},
   "source": [
    "Python razlikuje znamenke pohranjene kao nizove znakova:"
   ]
  },
  {
   "cell_type": "code",
   "execution_count": 76,
   "metadata": {
    "collapsed": false
   },
   "outputs": [
    {
     "data": {
      "text/plain": [
       "'3.14'"
      ]
     },
     "execution_count": 76,
     "metadata": {},
     "output_type": "execute_result"
    }
   ],
   "source": [
    "'3.14'"
   ]
  },
  {
   "cell_type": "markdown",
   "metadata": {},
   "source": [
    "kao, u ovom slučaju realnu vrijednost:"
   ]
  },
  {
   "cell_type": "code",
   "execution_count": 77,
   "metadata": {
    "collapsed": false
   },
   "outputs": [
    {
     "data": {
      "text/plain": [
       "3.14"
      ]
     },
     "execution_count": 77,
     "metadata": {},
     "output_type": "execute_result"
    }
   ],
   "source": [
    "3.14"
   ]
  },
  {
   "cell_type": "markdown",
   "metadata": {},
   "source": [
    "Unutar niza znakova je moguće dohvatiti (indeksirati ili adresirati) podniz putem uglatih zagrada i indeksa. Indeksiranje počinje nultim indeksom (en. *zero-based numbering*) te završava n-1 indeksom dužine niza. Indeks mora biti cjelobrojna vrijednost. Indeksirati se može jedan, u ovom primjeru prvi znak:"
   ]
  },
  {
   "cell_type": "code",
   "execution_count": 78,
   "metadata": {
    "collapsed": false
   },
   "outputs": [
    {
     "data": {
      "text/plain": [
       "'O'"
      ]
     },
     "execution_count": 78,
     "metadata": {},
     "output_type": "execute_result"
    }
   ],
   "source": [
    "'Ovo je niz.'[0]"
   ]
  },
  {
   "cell_type": "markdown",
   "metadata": {},
   "source": [
    "Ako se niz pohrani u varijablu, može se indeksirati preko naziva varijable:"
   ]
  },
  {
   "cell_type": "code",
   "execution_count": 79,
   "metadata": {
    "collapsed": false
   },
   "outputs": [
    {
     "data": {
      "text/plain": [
       "'O'"
      ]
     },
     "execution_count": 79,
     "metadata": {},
     "output_type": "execute_result"
    }
   ],
   "source": [
    "niz='Ovo je niz.'\n",
    "niz[0]"
   ]
  },
  {
   "cell_type": "markdown",
   "metadata": {},
   "source": [
    "Indeksirati se može i više znakova navodeći raspon indeksa tako da se navede početni indeks od kojeg se kreće, dvotočje te završni indeks do kojeg završava podniz:"
   ]
  },
  {
   "cell_type": "code",
   "execution_count": 80,
   "metadata": {
    "collapsed": false
   },
   "outputs": [
    {
     "data": {
      "text/plain": [
       "'je'"
      ]
     },
     "execution_count": 80,
     "metadata": {},
     "output_type": "execute_result"
    }
   ],
   "source": [
    "niz[4:6]"
   ]
  },
  {
   "cell_type": "markdown",
   "metadata": {},
   "source": [
    "Ako se navodeći raspon indeksa izostavi završni indeks u *Pythonu*, program će naredbu obraditi kao da je umjesto izostavljenog indeksa naveden posljednji indeks niza:"
   ]
  },
  {
   "cell_type": "code",
   "execution_count": 81,
   "metadata": {
    "collapsed": false
   },
   "outputs": [
    {
     "data": {
      "text/plain": [
       "'je niz.'"
      ]
     },
     "execution_count": 81,
     "metadata": {},
     "output_type": "execute_result"
    }
   ],
   "source": [
    "niz[4:]"
   ]
  },
  {
   "cell_type": "markdown",
   "metadata": {},
   "source": [
    "Također, ako se navodeći raspon indeksa izostavi početni indeks, program će naredbu obraditi kao da je umjesto izostavljenog indeksa naveden prvi indeks niza:"
   ]
  },
  {
   "cell_type": "code",
   "execution_count": 82,
   "metadata": {
    "collapsed": false
   },
   "outputs": [
    {
     "data": {
      "text/plain": [
       "'Ovo je'"
      ]
     },
     "execution_count": 82,
     "metadata": {},
     "output_type": "execute_result"
    }
   ],
   "source": [
    "niz[:6]"
   ]
  },
  {
   "cell_type": "markdown",
   "metadata": {},
   "source": [
    "Moguće je indeksirati i posljednji znak negativnom cjelobrojnom vrijednosti indeksa:"
   ]
  },
  {
   "cell_type": "code",
   "execution_count": 83,
   "metadata": {
    "collapsed": false
   },
   "outputs": [
    {
     "data": {
      "text/plain": [
       "'.'"
      ]
     },
     "execution_count": 83,
     "metadata": {},
     "output_type": "execute_result"
    }
   ],
   "source": [
    "niz[-1]"
   ]
  },
  {
   "cell_type": "markdown",
   "metadata": {},
   "source": [
    "Kod indeksiranja je moguće kombinirati pozitivne i negativne vrijednosti indeksa, dok god se početni indeks nalazi na indeksnom mjestu prije završnog indeksa. U suprotnom program vraća prazan niz."
   ]
  },
  {
   "cell_type": "code",
   "execution_count": 84,
   "metadata": {
    "collapsed": false
   },
   "outputs": [
    {
     "data": {
      "text/plain": [
       "'niz'"
      ]
     },
     "execution_count": 84,
     "metadata": {},
     "output_type": "execute_result"
    }
   ],
   "source": [
    "niz[7:-1]"
   ]
  },
  {
   "cell_type": "code",
   "execution_count": 85,
   "metadata": {
    "collapsed": false
   },
   "outputs": [
    {
     "data": {
      "text/plain": [
       "''"
      ]
     },
     "execution_count": 85,
     "metadata": {},
     "output_type": "execute_result"
    }
   ],
   "source": [
    "niz[7:-5]"
   ]
  },
  {
   "cell_type": "markdown",
   "metadata": {},
   "source": [
    "Ako postoji potreba za unosom novog retka, potrebno je rabiti znak `\\n`. Razlika između unosa i ispisa bit će vidljiva prilikom korištenja print naredbe:"
   ]
  },
  {
   "cell_type": "code",
   "execution_count": 86,
   "metadata": {
    "collapsed": false
   },
   "outputs": [
    {
     "name": "stdout",
     "output_type": "stream",
     "text": [
      "Prvi red niza.\n",
      "Drugi red niza.\n"
     ]
    }
   ],
   "source": [
    "print 'Prvi red niza.\\nDrugi red niza.'"
   ]
  },
  {
   "cell_type": "markdown",
   "metadata": {},
   "source": [
    "Osim posebnog znaka za prelazak u novi red, u Pythonu postoji još nekoliko korisnih nizova znakova posebnog značenja, koji se prikazuju pomoću obrnute kose crte (\\\\):\n",
    "\n",
    "Niz | Opis | Unicode kod\n",
    "--- | --- | ---\n",
    "\\\\ | obrnuta kosa crta (\\\\) | `\\u005C`\n",
    "\\' | jednostruki navodnik ('), koji se može koristiti unutar niza znakova započetog jednostrukim navodnicima | `\\u0027`\n",
    "\\\" | dvostruki navodnik (\"), koji se može koristiti unutar niza znakova započetog dvostrukim navodnicima | `\\u0022`\n",
    "\\n | ASCII Linefeed (LF) (novi red) | `\\u000A`\n",
    "\\r | ASCII Carriage Return (CR) (povrat glave pisača na početak reda) | `\\u000D`\n",
    "\\t | ASCII Horizontal Tab (TAB) (vodoravni tabulator) | `\\u0009`\n",
    "\\v | ASCII Vertical Tab (VT) (okomiti tabulator) | `\\u000B`"
   ]
  },
  {
   "cell_type": "markdown",
   "metadata": {},
   "source": [
    "### Logička vrijednost\n",
    "\n",
    "Logičke vrijednosti ili Booleove vrijednosti poprimaju samo dvije moguće vrijednosti, koje se prikazuju pomoću konstanti `True` i `False`. Logičke vrijednosti obično su rezultat uspoređivanja:"
   ]
  },
  {
   "cell_type": "code",
   "execution_count": 87,
   "metadata": {
    "collapsed": false
   },
   "outputs": [
    {
     "data": {
      "text/plain": [
       "True"
      ]
     },
     "execution_count": 87,
     "metadata": {},
     "output_type": "execute_result"
    }
   ],
   "source": [
    "3<7"
   ]
  },
  {
   "cell_type": "code",
   "execution_count": 88,
   "metadata": {
    "collapsed": false
   },
   "outputs": [
    {
     "data": {
      "text/plain": [
       "False"
      ]
     },
     "execution_count": 88,
     "metadata": {},
     "output_type": "execute_result"
    }
   ],
   "source": [
    "4.5>9"
   ]
  },
  {
   "cell_type": "markdown",
   "metadata": {},
   "source": [
    "## Varijable\n",
    "\n",
    "Varijabla je mjesto pohrane kojem je dodijeljen naziv u kojem program može pohraniti dodijeljenu vrijednost te je pročitati i prikazati. Svaki programski jezik ima različita pravila kako se varijable mogu nazivati, unositi i koristiti. Varijabla poprima određenu vrijednost naredbom **dodjeljivanja**. Naredba dodjeljivanja vrši se operatorom `=`:\n",
    "\n",
    "`<naziv varijable> = <vrijednost>`\n",
    "\n",
    "Prilikom imenovanja varijabli treba imati na umu sljedeće:\n",
    "* Naziv varijable može sadržavati slova engleske abecede, znamenke i podcrte.\n",
    "* *Python* razlikuje velika i mala slova. Nije isto imenovati varijablu \"broj\", \"Broj\", \"BROJ\", \"BrOj\" i sl.\n",
    "* Naziv varijable mora početi sa slovom ili podcrtom. Ne može početi sa znamenkom.\n",
    "* Postoje tzv. rezervirane riječi koje čine sintaksu programskog jezika i koje se ne mogu koristiti kao nazivi varijabli. To su:\n",
    "```\n",
    "['and', 'as', 'assert', 'break', 'class', 'continue', 'def', 'del', 'elif', 'else', 'except', 'exec', 'finally', 'for', 'from', 'global', 'if', 'import', 'in', 'is', 'lambda', 'not', 'or', 'pass', 'print', 'raise', 'return', 'try', 'while', 'with', 'yield']\n",
    "```\n",
    ".\n",
    "* `None` se također ne može koristiti za naziv varijable, iako nije rezervirana riječ, već konstanta.\n",
    "\n",
    "Prilikom deklariranja varijable ne navodi se vrsta podataka. Vrijednost koja je navedena prilikom deklariranja varijable određuje kojem tipu podataka pripada varijabla. Vrijednost varijable je moguće mijenjati tijekom izvođenja programa. Također je deklariranjem varijable moguće mijenjati tako i tip podatka varijable.\n",
    "Kako bi se varijabla mogla koristiti tijekom izvođenja programa, mora biti deklarirana. Varijabla se može deklarirati dodjeljivanjem neke vrijednosti. Na sljedeći način pohranjuje se cjelobrojna vrijednost `9` u varijablu nazvanu `broj1`:"
   ]
  },
  {
   "cell_type": "code",
   "execution_count": 89,
   "metadata": {
    "collapsed": false
   },
   "outputs": [
    {
     "name": "stdout",
     "output_type": "stream",
     "text": [
      "9\n"
     ]
    }
   ],
   "source": [
    "broj1=9\n",
    "print broj1"
   ]
  },
  {
   "cell_type": "markdown",
   "metadata": {},
   "source": [
    "Realna vrijednost `-16.85` pohranjuje se u varijablu nazvanu `broj2` na sljedeći način:"
   ]
  },
  {
   "cell_type": "code",
   "execution_count": 90,
   "metadata": {
    "collapsed": false
   },
   "outputs": [
    {
     "name": "stdout",
     "output_type": "stream",
     "text": [
      "-16.85\n"
     ]
    }
   ],
   "source": [
    "broj2=-16.85\n",
    "print broj2"
   ]
  },
  {
   "cell_type": "markdown",
   "metadata": {},
   "source": [
    "Na sljedeći način se niz znakova `Ovo je niz` pohranjuje u varijablu nazvanu `niz1`:"
   ]
  },
  {
   "cell_type": "code",
   "execution_count": 91,
   "metadata": {
    "collapsed": false
   },
   "outputs": [
    {
     "name": "stdout",
     "output_type": "stream",
     "text": [
      "Ovo je niz\n"
     ]
    }
   ],
   "source": [
    "niz1='Ovo je niz'\n",
    "print niz1"
   ]
  },
  {
   "cell_type": "markdown",
   "metadata": {},
   "source": [
    "Varijabla se može deklarirati i navođenjem praznine, čime je definiran tip podatka varijable, a trenutni sadržaj vrijednosti je prazan. Niz znakova se deklarira navođenjem dva jednostruka ili dvostruka navodnika za redom. Tako inicijaliziramo varijablu čija vrijednost je prazna, a tip podataka je niz znakova:"
   ]
  },
  {
   "cell_type": "code",
   "execution_count": 92,
   "metadata": {
    "collapsed": false
   },
   "outputs": [
    {
     "name": "stdout",
     "output_type": "stream",
     "text": [
      "\n"
     ]
    }
   ],
   "source": [
    "prazan_niz1=''\n",
    "print prazan_niz1"
   ]
  },
  {
   "cell_type": "markdown",
   "metadata": {},
   "source": [
    "ili"
   ]
  },
  {
   "cell_type": "code",
   "execution_count": 93,
   "metadata": {
    "collapsed": false
   },
   "outputs": [
    {
     "name": "stdout",
     "output_type": "stream",
     "text": [
      "\n"
     ]
    }
   ],
   "source": [
    "prazan_niz2=\"\"\n",
    "print prazan_niz2"
   ]
  },
  {
   "cell_type": "markdown",
   "metadata": {},
   "source": [
    "Dva tipa podataka koja su kasnije obrađena, su lista i rječnik, koji se također mogu deklarirati odnosno inicijalizirati bez sadržavanja vrijednosti."
   ]
  },
  {
   "cell_type": "code",
   "execution_count": 94,
   "metadata": {
    "collapsed": false
   },
   "outputs": [
    {
     "name": "stdout",
     "output_type": "stream",
     "text": [
      "[]\n"
     ]
    }
   ],
   "source": [
    "lista=[]\n",
    "print lista"
   ]
  },
  {
   "cell_type": "code",
   "execution_count": 95,
   "metadata": {
    "collapsed": false
   },
   "outputs": [
    {
     "name": "stdout",
     "output_type": "stream",
     "text": [
      "{}\n"
     ]
    }
   ],
   "source": [
    "rjecnik={}\n",
    "print rjecnik"
   ]
  },
  {
   "cell_type": "markdown",
   "metadata": {},
   "source": [
    "Ako ne znamo koju vrijednost i tip podataka će varijabla sadržavati, deklarirat ćemo je konstantom `None`:"
   ]
  },
  {
   "cell_type": "code",
   "execution_count": 96,
   "metadata": {
    "collapsed": false
   },
   "outputs": [
    {
     "name": "stdout",
     "output_type": "stream",
     "text": [
      "None\n"
     ]
    }
   ],
   "source": [
    "var=None\n",
    "print var"
   ]
  },
  {
   "cell_type": "markdown",
   "metadata": {},
   "source": [
    "Moguće je jednom naredbom dodjeljivanja više varijabli dodijeliti jednu vrijednost:\n",
    "\n",
    "`<naziv varijable 1>=<naziv varijable 2>=<naziv varijable 3>=<vrijednost<naziv varijable 3>=<vrijednost>`\n",
    "\n",
    "Na primjer, u varijable `var1`, `var2` i `var3` dodijeljena je vrijednost `5`:"
   ]
  },
  {
   "cell_type": "code",
   "execution_count": 97,
   "metadata": {
    "collapsed": false
   },
   "outputs": [
    {
     "name": "stdout",
     "output_type": "stream",
     "text": [
      "5\n",
      "5\n",
      "5\n"
     ]
    }
   ],
   "source": [
    "var1=var2=var3=5\n",
    "print var1\n",
    "print var2\n",
    "print var3"
   ]
  },
  {
   "cell_type": "markdown",
   "metadata": {},
   "source": [
    "Jednom varijablom dodjeljivanja moguće je dodijeliti više varijabli različite vrijednosti. Broj naziva varijabli mora biti jednak broju vrijednosti:\n",
    "\n",
    "`<naziv varijable 1>,<naziv varijable 2>,<naziv varijable 3>=<vrijednost1>,<vrijednost2>,<vrijednost3>`\n",
    "\n",
    "Na primjer, u varijable `var4`, `var5` i  `var6` dodijeljene su vrijednosti `10.5`, `'niz'`, `-2`:"
   ]
  },
  {
   "cell_type": "code",
   "execution_count": 98,
   "metadata": {
    "collapsed": false
   },
   "outputs": [
    {
     "name": "stdout",
     "output_type": "stream",
     "text": [
      "10.5\n",
      "niz\n",
      "-2\n"
     ]
    }
   ],
   "source": [
    "var4,var5,var6=10.5,'niz',-2\n",
    "print var4\n",
    "print var5\n",
    "print var6"
   ]
  },
  {
   "cell_type": "markdown",
   "metadata": {},
   "source": [
    "Također je moguće izvršiti zamjenu vrijednosti varijabli jednom naredbom dodjeljivanja:\n",
    "\n",
    "`<naziv varijable 1>,<naziv varijable 2>=<naziv varijable 2>,<naziv varijable 1>`\n",
    "\n",
    "Na primjer, zamjena vrijednosti varijabli `var4` i `var5` vrši se sljedećom naredbom:"
   ]
  },
  {
   "cell_type": "code",
   "execution_count": 99,
   "metadata": {
    "collapsed": false
   },
   "outputs": [
    {
     "name": "stdout",
     "output_type": "stream",
     "text": [
      "niz\n",
      "10.5\n"
     ]
    }
   ],
   "source": [
    "var4,var5=var5,var4\n",
    "print var4\n",
    "print var5"
   ]
  },
  {
   "cell_type": "markdown",
   "metadata": {},
   "source": [
    "## Vježbe\n",
    "\n",
    "Ovu vježbu rješavajte u interaktivnom prozoru.\n",
    "1. Izračunajte vrijednost izraza “tri puta pet podijeljeno s dva” te rezultat - realni tip podataka - pohranite u varijablu (objekt realnog tipa).\n",
    "2. Ispišite poruku na ekran “Rezultat prethodnog izraza jest 7.5, a cijeli dio tog izraza je 7”. Brojčane vrijednosti ispisujte iz objekta iz prvog zadatka. Za ispis druge vrijednosti trebate promijeniti tip podataka.\n",
    "3. Provjerite je li izraz “dva plus sedam pa podijeljeno s osam” veće od “jedan minus osam pa puta minus sedam”.\n",
    "4. U jednu varijablu pohranite svoju godinu rođenja, u drugu varijablu trenutnu godinu te ispišite poruku “Prošle ste godine navršili godina: x”. Na mjestu znaka x trebate izračunati svoj broj godina. Na kraju promijenite vrijednost varijable rođenja te ponovite ispis.\n",
    "5. Pohranite u dvije varijable tipa string svoje ime i prezime. U novu varijablu pohranite svoje inicijale, tj. prvo slovo imena i prezimena. Učinite to na temelju vrijednosti pohranjenih u varijablama imena i prezimena.\n",
    "6. Ako je funkcija len() funkcija za računanje duljine sekvence, izračunajte zbroj duljine imena i prezimena te vrijednost ispišite u obliku poruke.\n",
    "7. Provjerite je li duljina imena veća od duljine prezimena.\n",
    "8. Provjerite je li duljina imena paran broj (broj je paran ako je ostatak cjelobrojnog dijeljenja s dva jednak nula, neparan ako je suprotno).\n",
    "9. Započnite rješavanje zadaće.\n",
    "\n",
    "Domaća zadaća: ponoviti sadržaj ove vježbe, rješenje vježbe postaviti na Omegu (sadržaj interaktivnog prozora pohraniti u tekstnu datoteku), te pročitati dokument te isprobati sve primjere u \"Programiranje u Pythonu za netehničare\" zaključno s poglavljem 1.5."
   ]
  }
 ],
 "metadata": {
  "anaconda-cloud": {},
  "kernelspec": {
   "display_name": "Python [default]",
   "language": "python",
   "name": "python2"
  },
  "language_info": {
   "codemirror_mode": {
    "name": "ipython",
    "version": 2
   },
   "file_extension": ".py",
   "mimetype": "text/x-python",
   "name": "python",
   "nbconvert_exporter": "python",
   "pygments_lexer": "ipython2",
   "version": "2.7.12"
  }
 },
 "nbformat": 4,
 "nbformat_minor": 0
}
